{
 "cells": [
  {
   "cell_type": "code",
   "execution_count": 1,
   "metadata": {},
   "outputs": [
    {
     "name": "stderr",
     "output_type": "stream",
     "text": [
      "/Users/yangliu/.virtualenvs/dash/lib/python3.6/importlib/_bootstrap.py:219: RuntimeWarning: numpy.dtype size changed, may indicate binary incompatibility. Expected 96, got 88\n",
      "  return f(*args, **kwds)\n",
      "/Users/yangliu/.virtualenvs/dash/lib/python3.6/importlib/_bootstrap.py:219: RuntimeWarning: numpy.dtype size changed, may indicate binary incompatibility. Expected 96, got 88\n",
      "  return f(*args, **kwds)\n"
     ]
    },
    {
     "data": {
      "text/html": [
       "<script>requirejs.config({paths: { 'plotly': ['https://cdn.plot.ly/plotly-latest.min']},});if(!window.Plotly) {{require(['plotly'],function(plotly) {window.Plotly=plotly;});}}</script>"
      ],
      "text/vnd.plotly.v1+html": [
       "<script>requirejs.config({paths: { 'plotly': ['https://cdn.plot.ly/plotly-latest.min']},});if(!window.Plotly) {{require(['plotly'],function(plotly) {window.Plotly=plotly;});}}</script>"
      ]
     },
     "metadata": {},
     "output_type": "display_data"
    }
   ],
   "source": [
    "import plotly.offline as py\n",
    "import plotly\n",
    "import plotly.graph_objs as go\n",
    "\n",
    "plotly.offline.init_notebook_mode(connected=True)\n"
   ]
  },
  {
   "cell_type": "code",
   "execution_count": null,
   "metadata": {},
   "outputs": [],
   "source": [
    "def pyplot(x, y, title = \"plot\", x_title = None, y_title = None, tickangle = -45, plot_out = False):\n",
    "    \"\"\"\n",
    "    plotly plot based on the labels in x and data in y.\n",
    "    arguments:\n",
    "        x - labels of the data\n",
    "        y - values\n",
    "        plot_out - bool type decides if the function plot out the figure\n",
    "    \n",
    "    return:\n",
    "        the handler of the plotly figure\n",
    "    \"\"\"\n",
    "    \n",
    "    data = [go.Bar(\n",
    "            x=x,\n",
    "            y=y, \n",
    "    )]\n",
    "    \n",
    "    xaxis = {}\n",
    "    if x_title:\n",
    "        xaxis[\"title\"] = x_title\n",
    "    xaxis[\"tickangle\"] = tickangle\n",
    "    \n",
    "    yaxis = {}\n",
    "    if y_tilte:\n",
    "        yaxis[\"title\"] = y_title\n",
    "        \n",
    "    layout = [go.Layout(\n",
    "            title = title,\n",
    "            xaxis=xaxis,\n",
    "            yaxis=yaxis,\n",
    "            )\n",
    "        \n",
    "    )]\n",
    "    \n",
    "    fig = go.Figure(data=data, layout=layout)\n",
    "    \n",
    "    if plot_out:\n",
    "        py.iplot(fig, filename=\"bar_fig\")\n",
    "    \n",
    "    return fig\n",
    "    "
   ]
  },
  {
   "cell_type": "code",
   "execution_count": 2,
   "metadata": {},
   "outputs": [
    {
     "data": {
      "application/vnd.plotly.v1+json": {
       "data": [
        {
         "type": "scatter",
         "uid": "96b5015e-9a4d-11e8-9cac-a820660c4dc0",
         "x": [
          1,
          2,
          3
         ],
         "y": [
          5,
          2,
          7
         ]
        }
       ],
       "layout": {}
      },
      "text/html": [
       "<div id=\"aafe02ee-a57e-42d8-a9fa-1bb6551ecc2f\" style=\"height: 525px; width: 100%;\" class=\"plotly-graph-div\"></div><script type=\"text/javascript\">require([\"plotly\"], function(Plotly) { window.PLOTLYENV=window.PLOTLYENV || {};window.PLOTLYENV.BASE_URL=\"https://plot.ly\";Plotly.newPlot(\"aafe02ee-a57e-42d8-a9fa-1bb6551ecc2f\", [{\"x\": [1, 2, 3], \"y\": [5, 2, 7], \"type\": \"scatter\", \"uid\": \"97644f88-9a4d-11e8-a3e0-a820660c4dc0\"}], {}, {\"showLink\": true, \"linkText\": \"Export to plot.ly\"})});</script>"
      ],
      "text/vnd.plotly.v1+html": [
       "<div id=\"aafe02ee-a57e-42d8-a9fa-1bb6551ecc2f\" style=\"height: 525px; width: 100%;\" class=\"plotly-graph-div\"></div><script type=\"text/javascript\">require([\"plotly\"], function(Plotly) { window.PLOTLYENV=window.PLOTLYENV || {};window.PLOTLYENV.BASE_URL=\"https://plot.ly\";Plotly.newPlot(\"aafe02ee-a57e-42d8-a9fa-1bb6551ecc2f\", [{\"x\": [1, 2, 3], \"y\": [5, 2, 7], \"type\": \"scatter\", \"uid\": \"97644f88-9a4d-11e8-a3e0-a820660c4dc0\"}], {}, {\"showLink\": true, \"linkText\": \"Export to plot.ly\"})});</script>"
      ]
     },
     "metadata": {},
     "output_type": "display_data"
    }
   ],
   "source": []
  },
  {
   "cell_type": "code",
   "execution_count": null,
   "metadata": {},
   "outputs": [],
   "source": []
  }
 ],
 "metadata": {
  "kernelspec": {
   "display_name": "Python 3",
   "language": "python",
   "name": "python3"
  },
  "language_info": {
   "codemirror_mode": {
    "name": "ipython",
    "version": 3
   },
   "file_extension": ".py",
   "mimetype": "text/x-python",
   "name": "python",
   "nbconvert_exporter": "python",
   "pygments_lexer": "ipython3",
   "version": "3.6.5"
  }
 },
 "nbformat": 4,
 "nbformat_minor": 2
}

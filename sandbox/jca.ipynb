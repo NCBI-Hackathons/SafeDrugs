{
 "cells": [
  {
   "cell_type": "code",
   "execution_count": 2,
   "metadata": {},
   "outputs": [],
   "source": [
    "def plot_settings(style='seaborn-whitegrid'):\n",
    "    \"\"\"\n",
    "    Common rcParams for plot styling\n",
    "    \"\"\"\n",
    "    import matplotlib as mpl\n",
    "    \n",
    "    mpl.style.use(style)\n",
    "    mpl.rcParams['font.weight']= 'bold'\n",
    "    mpl.rcParams['font.size']= 16"
   ]
  },
  {
   "cell_type": "code",
   "execution_count": 7,
   "metadata": {},
   "outputs": [
    {
     "data": {
      "text/plain": [
       "' INSERT DASK HERE\\nfrom dask.distributed import Client\\nimport dask.dataframe as dd\\ndask = Client()\\n\\ndf = dd.read_csv(\"../data/aeolus_top5drugs.feather\")\\n\\n'"
      ]
     },
     "execution_count": 7,
     "metadata": {},
     "output_type": "execute_result"
    }
   ],
   "source": [
    "\"\"\" INSERT DASK HERE\n",
    "from dask.distributed import Client\n",
    "import dask.dataframe as dd\n",
    "dask = Client()\n",
    "\n",
    "df = dd.read_csv(\"../data/aeolus_top5drugs.feather\")\n",
    "\n",
    "\"\"\"\n"
   ]
  },
  {
   "cell_type": "code",
   "execution_count": 7,
   "metadata": {},
   "outputs": [
    {
     "name": "stdout",
     "output_type": "stream",
     "text": [
      "0.8696000576019287\n"
     ]
    }
   ],
   "source": [
    "%matplotlib inline\n",
    "import pandas as pd\n",
    "import time\n",
    "\n",
    "t1 = time.time()\n",
    "data = pd.read_feather(\"../data/aeolus_top5drugs.feather\")\n",
    "t2 = time.time()\n",
    "print (t2 - t1)"
   ]
  }
 ],
 "metadata": {
  "kernelspec": {
   "display_name": "Python 3",
   "language": "python",
   "name": "python3"
  },
  "language_info": {
   "codemirror_mode": {
    "name": "ipython",
    "version": 3
   },
   "file_extension": ".py",
   "mimetype": "text/x-python",
   "name": "python",
   "nbconvert_exporter": "python",
   "pygments_lexer": "ipython3",
   "version": "3.6.4"
  }
 },
 "nbformat": 4,
 "nbformat_minor": 2
}

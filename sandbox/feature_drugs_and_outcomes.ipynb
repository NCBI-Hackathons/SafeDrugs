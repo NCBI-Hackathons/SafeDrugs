{
 "cells": [
  {
   "cell_type": "markdown",
   "metadata": {
    "heading_collapsed": true
   },
   "source": [
    "## Module/Variable/Data setup"
   ]
  },
  {
   "cell_type": "code",
   "execution_count": 1,
   "metadata": {
    "hidden": true
   },
   "outputs": [],
   "source": [
    "%run ../src/python/helpers.py\n",
    "\n",
    "%matplotlib inline\n",
    "from numpy import nan\n",
    "from numpy import arange\n",
    "\n",
    "from pandas import read_feather\n",
    "import seaborn as sns\n",
    "import ipywidgets as w\n",
    "\n",
    "#VARIABLES\n",
    "cl = ['atc_1st','atc_2nd','atc_3rd','atc_4th','drug_concept_name']\n",
    "\n",
    "data = read_feather(\"../data/aeolus_top5drugs.feather\")\n",
    "\n",
    "plot_settings()"
   ]
  },
  {
   "cell_type": "markdown",
   "metadata": {
    "heading_collapsed": true
   },
   "source": [
    "## For a drug class, how many unique adverse reactions are reported?"
   ]
  },
  {
   "cell_type": "code",
   "execution_count": 2,
   "metadata": {
    "hidden": true
   },
   "outputs": [
    {
     "data": {
      "application/vnd.jupyter.widget-view+json": {
       "model_id": "4693dd0c22b64d6483e4faf030d2479b",
       "version_major": 2,
       "version_minor": 0
      },
      "text/plain": [
       "Dropdown(layout=Layout(display='flex', width='100%'), options=('atc_1st', 'atc_2nd', 'atc_3rd', 'atc_4th', 'dr…"
      ]
     },
     "metadata": {},
     "output_type": "display_data"
    }
   ],
   "source": [
    "d = dropdown(cl)\n",
    "d"
   ]
  },
  {
   "cell_type": "markdown",
   "metadata": {
    "hidden": true
   },
   "source": [
    "classes in above chosen drug class"
   ]
  },
  {
   "cell_type": "code",
   "execution_count": 3,
   "metadata": {
    "hidden": true
   },
   "outputs": [],
   "source": [
    "out= 'outcome_concept_name'\n",
    "grpd = data.groupby([d.label,out])[out].count().sort_values(ascending=False)\n",
    "grpd.name = 'n'"
   ]
  },
  {
   "cell_type": "code",
   "execution_count": 4,
   "metadata": {
    "hidden": true
   },
   "outputs": [],
   "source": [
    "grpd2 = grpd.groupby(level=d.label)\n",
    "series = grpd2.count()"
   ]
  },
  {
   "cell_type": "code",
   "execution_count": 5,
   "metadata": {
    "hidden": true
   },
   "outputs": [
    {
     "data": {
      "image/png": "[encoded data removed]",
      "text/plain": [
       "<Figure size 432x288 with 1 Axes>"
      ]
     },
     "metadata": {},
     "output_type": "display_data"
    }
   ],
   "source": [
    "p = plot(series,kind='barh')\n",
    "q = p.set_title(p.get_ylabel().upper(),rotation=0,weight='bold')\n",
    "q = p.set_ylabel(\"\")\n",
    "q = p.set_xlabel(\"Number of unique adverse reactions\",weight=\"bold\")"
   ]
  },
  {
   "cell_type": "markdown",
   "metadata": {
    "heading_collapsed": true
   },
   "source": [
    "## What are the top adverse reactions in the chosen drug class?"
   ]
  },
  {
   "cell_type": "code",
   "execution_count": 6,
   "metadata": {
    "hidden": true
   },
   "outputs": [
    {
     "data": {
      "application/vnd.jupyter.widget-view+json": {
       "model_id": "32a4b237378844d194164f9814cc06bd",
       "version_major": 2,
       "version_minor": 0
      },
      "text/plain": [
       "Dropdown(layout=Layout(display='flex', width='100%'), options=('ALIMENTARY TRACT AND METABOLISM', 'CARDIOVASCU…"
      ]
     },
     "metadata": {},
     "output_type": "display_data"
    }
   ],
   "source": [
    "ds = dropdown(series.index)\n",
    "ds"
   ]
  },
  {
   "cell_type": "code",
   "execution_count": 7,
   "metadata": {
    "hidden": true
   },
   "outputs": [
    {
     "data": {
      "application/vnd.jupyter.widget-view+json": {
       "model_id": "533a5d7e6b5e4185967d6b6312cc7f87",
       "version_major": 2,
       "version_minor": 0
      },
      "text/plain": [
       "IntSlider(value=5, max=10, min=1)"
      ]
     },
     "metadata": {},
     "output_type": "display_data"
    }
   ],
   "source": [
    "i = w.IntSlider(min=1,max=10,step=1,value=5)\n",
    "i"
   ]
  },
  {
   "cell_type": "markdown",
   "metadata": {
    "hidden": true
   },
   "source": [
    "indices for most frequent ADRs"
   ]
  },
  {
   "cell_type": "code",
   "execution_count": 8,
   "metadata": {
    "hidden": true
   },
   "outputs": [],
   "source": [
    "sub = data.query('{0} in @ds.label'.format(d.label)).groupby([d.label,out])[out].count().sort_values(ascending=False).head(i.value)\n",
    "sub.name= \"n\"\n",
    "sub = sub.reset_index()"
   ]
  },
  {
   "cell_type": "code",
   "execution_count": 9,
   "metadata": {
    "hidden": true,
    "scrolled": true
   },
   "outputs": [
    {
     "data": {
      "image/png": "[encoded data removed]",
      "text/plain": [
       "<Figure size 432x288 with 1 Axes>"
      ]
     },
     "metadata": {},
     "output_type": "display_data"
    }
   ],
   "source": [
    "p = sns.barplot(y=d.label,x='n',hue=out,data=sub,orient='h')\n",
    "p.legend(bbox_to_anchor=(1.7,1))\n",
    "q = p.set_ylabel('')"
   ]
  },
  {
   "cell_type": "markdown",
   "metadata": {
    "heading_collapsed": true
   },
   "source": [
    "## How do the ADRs break down by report year?"
   ]
  },
  {
   "cell_type": "code",
   "execution_count": 10,
   "metadata": {
    "hidden": true
   },
   "outputs": [],
   "source": [
    "outs = sub.iloc[:,1].values\n",
    "sub2 = data.query('({0}==@ds.label) & ({1} in @outs)'.format(d.label,out))"
   ]
  },
  {
   "cell_type": "code",
   "execution_count": 11,
   "metadata": {
    "hidden": true
   },
   "outputs": [],
   "source": [
    "series2 = freqXbyY(sub2,'report_year','id')"
   ]
  },
  {
   "cell_type": "code",
   "execution_count": 12,
   "metadata": {
    "hidden": true
   },
   "outputs": [
    {
     "data": {
      "image/png": "[encoded data removed]",
      "text/plain": [
       "<Figure size 432x288 with 1 Axes>"
      ]
     },
     "metadata": {},
     "output_type": "display_data"
    }
   ],
   "source": [
    "p = plot(series2,kind='bar')\n",
    "q = p.set_title(p.get_ylabel().upper(),rotation=0,weight='bold')\n",
    "q = p.set_ylabel(p.get_ylabel(),rotation=0)\n",
    "q = p.set_xlabel(\"Number of Reports\",weight=\"bold\")"
   ]
  },
  {
   "cell_type": "markdown",
   "metadata": {
    "heading_collapsed": true
   },
   "source": [
    "## subset data by chosen year(s)"
   ]
  },
  {
   "cell_type": "code",
   "execution_count": 13,
   "metadata": {
    "hidden": true,
    "scrolled": false
   },
   "outputs": [
    {
     "data": {
      "application/vnd.jupyter.widget-view+json": {
       "model_id": "c10cbacaa23d4f359a8647da21f904b6",
       "version_major": 2,
       "version_minor": 0
      },
      "text/plain": [
       "SelectMultiple(index=(0, 1, 2, 3, 4, 5, 6, 7, 8, 9, 10), options=('2004', '2005', '2006', '2007', '2008', '200…"
      ]
     },
     "metadata": {},
     "output_type": "display_data"
    }
   ],
   "source": [
    "labels = series2.index\n",
    "mds = w.SelectMultiple(options = labels ,value = tuple(labels))\n",
    "mds"
   ]
  },
  {
   "cell_type": "markdown",
   "metadata": {
    "heading_collapsed": true
   },
   "source": [
    "## How many are reported within these ADRs across the sexes?"
   ]
  },
  {
   "cell_type": "code",
   "execution_count": 14,
   "metadata": {
    "hidden": true
   },
   "outputs": [
    {
     "data": {
      "text/plain": [
       "<matplotlib.axes._subplots.AxesSubplot at 0x10dfe8b00>"
      ]
     },
     "execution_count": 14,
     "metadata": {},
     "output_type": "execute_result"
    },
    {
     "data": {
      "image/png": "[encoded data removed]",
      "text/plain": [
       "<Figure size 432x288 with 1 Axes>"
      ]
     },
     "metadata": {},
     "output_type": "display_data"
    }
   ],
   "source": [
    "#plot variables for filtering/wrangling\n",
    "bars = 'gender_code'\n",
    "x = 'report_year'\n",
    "count = 'id'\n",
    "dat = clean_gender(sub2).query('report_year in @mds.label')\n",
    "\n",
    "#main\n",
    "sub_dat = dat[[bars,x,count]]\n",
    "plot_sub_dat = sub_dat.groupby([bars,x]).count().reset_index(level=bars).pivot(columns=bars)\n",
    "plot_sub_dat.columns = plot_sub_dat.columns.droplevel(level=0)\n",
    "plot_sub_dat.plot.bar()"
   ]
  },
  {
   "cell_type": "markdown",
   "metadata": {
    "heading_collapsed": true
   },
   "source": [
    "## How many are reported within this class across ages?"
   ]
  },
  {
   "cell_type": "code",
   "execution_count": 15,
   "metadata": {
    "hidden": true
   },
   "outputs": [
    {
     "data": {
      "text/plain": [
       "<matplotlib.axes._subplots.AxesSubplot at 0x123a6cc18>"
      ]
     },
     "execution_count": 15,
     "metadata": {},
     "output_type": "execute_result"
    },
    {
     "data": {
      "image/png": "[encoded data removed]",
      "text/plain": [
       "<Figure size 432x288 with 1 Axes>"
      ]
     },
     "metadata": {},
     "output_type": "display_data"
    }
   ],
   "source": [
    "#plot variables for filtering/wrangling\n",
    "grp = 'age_cat'\n",
    "\n",
    "#main\n",
    "dat[[d.label,grp]].groupby([grp]).count().plot.bar()"
   ]
  },
  {
   "cell_type": "markdown",
   "metadata": {
    "heading_collapsed": true
   },
   "source": [
    "## How many are reported within this class across ages for each sex?"
   ]
  },
  {
   "cell_type": "code",
   "execution_count": 16,
   "metadata": {
    "hidden": true
   },
   "outputs": [
    {
     "data": {
      "text/plain": [
       "<matplotlib.axes._subplots.AxesSubplot at 0x11b47b5f8>"
      ]
     },
     "execution_count": 16,
     "metadata": {},
     "output_type": "execute_result"
    },
    {
     "data": {
      "image/png": "[encoded data removed]",
      "text/plain": [
       "<Figure size 432x288 with 1 Axes>"
      ]
     },
     "metadata": {},
     "output_type": "display_data"
    }
   ],
   "source": [
    "#plot variables for filtering/wrangling\n",
    "bars = 'gender_code'\n",
    "x = 'age_cat'\n",
    "count = 'id'\n",
    "\n",
    "#want to filter dataset for M/F gender and if report year was clicked or selected\n",
    "sub_dat = clean_gender(dat)[[bars,x,count]]\n",
    "\n",
    "#main\n",
    "plot_sub_dat = sub_dat.groupby([bars,x]).count().reset_index(level=bars).pivot(columns=bars)\n",
    "plot_sub_dat.columns = plot_sub_dat.columns.droplevel(level=0)\n",
    "plot_sub_dat.plot.bar()"
   ]
  }
 ],
 "metadata": {
  "kernelspec": {
   "display_name": "Python [default]",
   "language": "python",
   "name": "python3"
  },
  "language_info": {
   "codemirror_mode": {
    "name": "ipython",
    "version": 3
   },
   "file_extension": ".py",
   "mimetype": "text/x-python",
   "name": "python",
   "nbconvert_exporter": "python",
   "pygments_lexer": "ipython3",
   "version": "3.6.5"
  }
 },
 "nbformat": 4,
 "nbformat_minor": 2
}

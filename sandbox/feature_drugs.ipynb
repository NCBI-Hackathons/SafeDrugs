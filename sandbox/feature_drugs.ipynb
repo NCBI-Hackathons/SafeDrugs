{
 "cells": [
  {
   "cell_type": "markdown",
   "metadata": {
    "heading_collapsed": true
   },
   "source": [
    "## Module/Variable/Data setup"
   ]
  },
  {
   "cell_type": "code",
   "execution_count": 1,
   "metadata": {
    "hidden": true
   },
   "outputs": [],
   "source": [
    "%run ../src/python/helpers.py\n",
    "\n",
    "%matplotlib inline\n",
    "from numpy import nan\n",
    "from numpy import arange\n",
    "\n",
    "from pandas import read_feather\n",
    "import seaborn as sns\n",
    "import ipywidgets as w\n",
    "\n",
    "#VARIABLES\n",
    "cl = ['atc_1st','atc_2nd','atc_3rd','atc_4th','drug_concept_name']\n",
    "\n",
    "data = read_feather(\"../data/aeolus_top5drugs.feather\")\n",
    "\n",
    "plot_settings()"
   ]
  },
  {
   "cell_type": "markdown",
   "metadata": {
    "heading_collapsed": true
   },
   "source": [
    "## How many reports for each drug class?"
   ]
  },
  {
   "cell_type": "code",
   "execution_count": 2,
   "metadata": {
    "hidden": true
   },
   "outputs": [
    {
     "data": {
      "application/vnd.jupyter.widget-view+json": {
       "model_id": "708f260c953d4ad6ad7c687aeeaa081f",
       "version_major": 2,
       "version_minor": 0
      },
      "text/plain": [
       "Dropdown(layout=Layout(display='flex', width='100%'), options=('atc_1st', 'atc_2nd', 'atc_3rd', 'atc_4th', 'dr…"
      ]
     },
     "metadata": {},
     "output_type": "display_data"
    }
   ],
   "source": [
    "d = dropdown(cl)\n",
    "d"
   ]
  },
  {
   "cell_type": "code",
   "execution_count": 3,
   "metadata": {
    "hidden": true
   },
   "outputs": [],
   "source": [
    "series = freqXbyY(data,d.label,d.label).sort_values(ascending=False)"
   ]
  },
  {
   "cell_type": "markdown",
   "metadata": {
    "hidden": true
   },
   "source": [
    "### Show a subset of subclasses?"
   ]
  },
  {
   "cell_type": "code",
   "execution_count": 4,
   "metadata": {
    "hidden": true
   },
   "outputs": [
    {
     "data": {
      "application/vnd.jupyter.widget-view+json": {
       "model_id": "92c6c89e9bb746419db2481609a950a0",
       "version_major": 2,
       "version_minor": 0
      },
      "text/plain": [
       "IntSlider(value=3, max=3, min=1)"
      ]
     },
     "metadata": {},
     "output_type": "display_data"
    }
   ],
   "source": [
    "m = len(series.index)\n",
    "if len(series.index)>15:\n",
    "    m = 15\n",
    "o = w.IntSlider(min=1,max=m,step=1,value=10)\n",
    "o"
   ]
  },
  {
   "cell_type": "code",
   "execution_count": 5,
   "metadata": {
    "hidden": true
   },
   "outputs": [
    {
     "data": {
      "image/png": "[encoded data removed]",
      "text/plain": [
       "<Figure size 432x288 with 1 Axes>"
      ]
     },
     "metadata": {},
     "output_type": "display_data"
    }
   ],
   "source": [
    "inds = arange(0,o.value,1)\n",
    "sub_series = series.iloc[inds]\n",
    "p = plot(series.iloc[inds],kind='barh')\n",
    "q = p.set_title(p.get_ylabel().upper(),rotation=0,weight='bold')\n",
    "q = p.set_ylabel(\"\")\n",
    "q = p.set_xlabel(\"Number of Reports\",weight=\"bold\")"
   ]
  },
  {
   "cell_type": "markdown",
   "metadata": {
    "heading_collapsed": true
   },
   "source": [
    "## subset data by chosen drug class"
   ]
  },
  {
   "cell_type": "code",
   "execution_count": 6,
   "metadata": {
    "hidden": true
   },
   "outputs": [
    {
     "data": {
      "application/vnd.jupyter.widget-view+json": {
       "model_id": "7e9a4f4ebe214c6583508964332b7333",
       "version_major": 2,
       "version_minor": 0
      },
      "text/plain": [
       "SelectMultiple(index=(0,), options=('ALIMENTARY TRACT AND METABOLISM', 'CARDIOVASCULAR SYSTEM', 'NERVOUS SYSTE…"
      ]
     },
     "metadata": {},
     "output_type": "display_data"
    }
   ],
   "source": [
    "mds = w.SelectMultiple(options = series.index,value=[series.index[0]])\n",
    "mds"
   ]
  },
  {
   "cell_type": "code",
   "execution_count": 7,
   "metadata": {
    "hidden": true
   },
   "outputs": [],
   "source": [
    "sub = data.query('{0} in @mds.label'.format(d.label))"
   ]
  },
  {
   "cell_type": "markdown",
   "metadata": {
    "heading_collapsed": true
   },
   "source": [
    "## How many are reported across the years for the chosen drug class(es)?"
   ]
  },
  {
   "cell_type": "code",
   "execution_count": 8,
   "metadata": {
    "hidden": true
   },
   "outputs": [],
   "source": [
    "series2 = freqXbyY(sub,'report_year',d.label)"
   ]
  },
  {
   "cell_type": "code",
   "execution_count": 9,
   "metadata": {
    "hidden": true
   },
   "outputs": [
    {
     "data": {
      "image/png": "[encoded data removed]",
      "text/plain": [
       "<Figure size 432x288 with 1 Axes>"
      ]
     },
     "metadata": {},
     "output_type": "display_data"
    }
   ],
   "source": [
    "p = plot(series2,kind='bar')\n",
    "q = p.set_ylabel(p.get_ylabel(),rotation=0)\n",
    "q = p.set_xlabel(\"Number of Reports\",weight=\"bold\")\n",
    "q = p.set_xticklabels(p.get_xticklabels(),rotation=45)"
   ]
  },
  {
   "cell_type": "markdown",
   "metadata": {
    "heading_collapsed": true
   },
   "source": [
    "## subset data by chosen year(s)"
   ]
  },
  {
   "cell_type": "code",
   "execution_count": 10,
   "metadata": {
    "hidden": true,
    "scrolled": true
   },
   "outputs": [
    {
     "data": {
      "application/vnd.jupyter.widget-view+json": {
       "model_id": "022f755f27914df8bc7ebff369bb3e1d",
       "version_major": 2,
       "version_minor": 0
      },
      "text/plain": [
       "SelectMultiple(index=(0, 1, 2, 3, 4, 5, 6, 7, 8, 9, 10), options=('2004', '2005', '2006', '2007', '2008', '200…"
      ]
     },
     "metadata": {},
     "output_type": "display_data"
    }
   ],
   "source": [
    "labels = series2.index\n",
    "mds = w.SelectMultiple(options = labels ,value = tuple(labels))\n",
    "mds"
   ]
  },
  {
   "cell_type": "markdown",
   "metadata": {
    "heading_collapsed": true
   },
   "source": [
    "## How many are reported within this class across the sexes?"
   ]
  },
  {
   "cell_type": "code",
   "execution_count": 11,
   "metadata": {
    "hidden": true
   },
   "outputs": [
    {
     "data": {
      "text/plain": [
       "<matplotlib.axes._subplots.AxesSubplot at 0x128639518>"
      ]
     },
     "execution_count": 11,
     "metadata": {},
     "output_type": "execute_result"
    },
    {
     "data": {
      "image/png": "[encoded data removed]",
      "text/plain": [
       "<Figure size 432x288 with 1 Axes>"
      ]
     },
     "metadata": {},
     "output_type": "display_data"
    }
   ],
   "source": [
    "#plot variables for filtering/wrangling\n",
    "bars = 'gender_code'\n",
    "x = 'report_year'\n",
    "count = 'id'\n",
    "\n",
    "dat = clean_gender(sub).query('report_year in @mds.label')\n",
    "\n",
    "#main\n",
    "sub_dat = dat[[bars,x,count]]\n",
    "plot_sub = sub_dat.groupby([bars,x]).count().reset_index(level=bars).pivot(columns=bars)\n",
    "plot_sub.columns = plot_sub.columns.droplevel(level=0)\n",
    "plot_sub.plot.bar()"
   ]
  },
  {
   "cell_type": "markdown",
   "metadata": {
    "heading_collapsed": true
   },
   "source": [
    "## How many are reported within this class across ages?"
   ]
  },
  {
   "cell_type": "code",
   "execution_count": 12,
   "metadata": {
    "hidden": true
   },
   "outputs": [
    {
     "data": {
      "text/plain": [
       "<matplotlib.axes._subplots.AxesSubplot at 0x117ba5f60>"
      ]
     },
     "execution_count": 12,
     "metadata": {},
     "output_type": "execute_result"
    },
    {
     "data": {
      "image/png": "[encoded data removed]",
      "text/plain": [
       "<Figure size 432x288 with 1 Axes>"
      ]
     },
     "metadata": {},
     "output_type": "display_data"
    }
   ],
   "source": [
    "#plot variables for filtering/wrangling\n",
    "grp = 'age_cat'\n",
    "\n",
    "#main\n",
    "dat[[d.label,grp]].groupby([grp]).count().plot.bar()"
   ]
  },
  {
   "cell_type": "markdown",
   "metadata": {
    "heading_collapsed": true
   },
   "source": [
    "## How many are reported within this class across ages for each sex?"
   ]
  },
  {
   "cell_type": "code",
   "execution_count": 13,
   "metadata": {
    "hidden": true
   },
   "outputs": [
    {
     "data": {
      "text/plain": [
       "<matplotlib.axes._subplots.AxesSubplot at 0x1285f60f0>"
      ]
     },
     "execution_count": 13,
     "metadata": {},
     "output_type": "execute_result"
    },
    {
     "data": {
      "image/png": "[encoded data removed]",
      "text/plain": [
       "<Figure size 432x288 with 1 Axes>"
      ]
     },
     "metadata": {},
     "output_type": "display_data"
    }
   ],
   "source": [
    "#plot variables for filtering/wrangling\n",
    "bars = 'gender_code'\n",
    "x = 'age_cat'\n",
    "count = 'id'\n",
    "\n",
    "#want to filter dataset for M/F gender and if report year was clicked or selected\n",
    "dat = clean_gender(sub)[[bars,x,count]]\n",
    "\n",
    "#main\n",
    "plot_sub = dat.groupby([bars,x]).count().reset_index(level=bars).pivot(columns=bars)\n",
    "plot_sub.columns = plot_sub.columns.droplevel(level=0)\n",
    "plot_sub.plot.bar()"
   ]
  }
 ],
 "metadata": {
  "kernelspec": {
   "display_name": "Python [conda env:py3]",
   "language": "python",
   "name": "conda-env-py3-py"
  },
  "language_info": {
   "codemirror_mode": {
    "name": "ipython",
    "version": 3
   },
   "file_extension": ".py",
   "mimetype": "text/x-python",
   "name": "python",
   "nbconvert_exporter": "python",
   "pygments_lexer": "ipython3",
   "version": "3.6.5"
  }
 },
 "nbformat": 4,
 "nbformat_minor": 2
}

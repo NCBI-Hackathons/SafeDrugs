{
 "cells": [
  {
   "cell_type": "markdown",
   "metadata": {
    "heading_collapsed": true
   },
   "source": [
    "## Module/Variable/Data setup"
   ]
  },
  {
   "cell_type": "code",
   "execution_count": 1,
   "metadata": {
    "hidden": true
   },
   "outputs": [],
   "source": [
    "%run ../src/python/helpers.py\n",
    "\n",
    "%matplotlib inline\n",
    "from numpy import nan\n",
    "from numpy import arange\n",
    "\n",
    "from pandas import read_feather\n",
    "import seaborn as sns\n",
    "import ipywidgets as w\n",
    "\n",
    "#VARIABLES\n",
    "cl = ['atc_1st','atc_2nd','atc_3rd','atc_4th','drug_concept_name']\n",
    "\n",
    "data = read_feather(\"../data/aeolus_top5drugs.feather\")\n",
    "\n",
    "plot_settings()"
   ]
  },
  {
   "cell_type": "markdown",
   "metadata": {
    "heading_collapsed": true
   },
   "source": [
    "## How many reports for a number of outcomes?"
   ]
  },
  {
   "cell_type": "code",
   "execution_count": 2,
   "metadata": {
    "hidden": true
   },
   "outputs": [
    {
     "data": {
      "application/vnd.jupyter.widget-view+json": {
       "model_id": "7a01c78efbe24c5da8b7b1e0c2883dcd",
       "version_major": 2,
       "version_minor": 0
      },
      "text/plain": [
       "IntSlider(value=10, max=15, min=1)"
      ]
     },
     "metadata": {},
     "output_type": "display_data"
    }
   ],
   "source": [
    "d = w.IntSlider(min=1,max=15,step=1,value=10)\n",
    "d"
   ]
  },
  {
   "cell_type": "code",
   "execution_count": 3,
   "metadata": {
    "hidden": true
   },
   "outputs": [],
   "source": [
    "from numpy import arange\n",
    "inds = arange(0,int(d.value),1)"
   ]
  },
  {
   "cell_type": "code",
   "execution_count": 4,
   "metadata": {
    "hidden": true
   },
   "outputs": [],
   "source": [
    "out = 'outcome_concept_name'\n",
    "series = freqXbyY(data,out,'id').sort_values(ascending=False)\n",
    "outs = series.index.values[inds]"
   ]
  },
  {
   "cell_type": "code",
   "execution_count": 5,
   "metadata": {
    "hidden": true
   },
   "outputs": [],
   "source": [
    "sub = data.query('{0} in @outs'.format(out))"
   ]
  },
  {
   "cell_type": "code",
   "execution_count": 6,
   "metadata": {
    "hidden": true
   },
   "outputs": [
    {
     "data": {
      "image/png": "[encoded data removed]",
      "text/plain": [
       "<Figure size 432x288 with 1 Axes>"
      ]
     },
     "metadata": {},
     "output_type": "display_data"
    }
   ],
   "source": [
    "p = plot(series.iloc[inds],kind='barh')\n",
    "q = p.set_title(p.get_ylabel().upper(),rotation=0,weight='bold')\n",
    "q = p.set_ylabel(\"\")\n",
    "q = p.set_xlabel(\"Number of Reports\",weight=\"bold\")"
   ]
  },
  {
   "cell_type": "markdown",
   "metadata": {
    "heading_collapsed": true
   },
   "source": [
    "## subset data by chosen drug class"
   ]
  },
  {
   "cell_type": "code",
   "execution_count": 7,
   "metadata": {
    "hidden": true
   },
   "outputs": [
    {
     "data": {
      "application/vnd.jupyter.widget-view+json": {
       "model_id": "402539d53a134a63ae56d693b471e4ab",
       "version_major": 2,
       "version_minor": 0
      },
      "text/plain": [
       "SelectMultiple(index=(0, 1, 2, 3, 4, 5, 6, 7, 8, 9), options=('Nausea', 'Respiratory finding', 'Malaise and fa…"
      ]
     },
     "metadata": {},
     "output_type": "display_data"
    }
   ],
   "source": [
    "import ipywidgets as w\n",
    "labels = series.index\n",
    "\n",
    "mds = w.SelectMultiple(options = labels, value = tuple(labels)[:10])\n",
    "mds"
   ]
  },
  {
   "cell_type": "code",
   "execution_count": 8,
   "metadata": {
    "hidden": true
   },
   "outputs": [],
   "source": [
    "sub = data.query('{0} in @mds.label'.format(out))"
   ]
  },
  {
   "cell_type": "markdown",
   "metadata": {
    "heading_collapsed": true
   },
   "source": [
    "## How many are reported across the years?"
   ]
  },
  {
   "cell_type": "code",
   "execution_count": 9,
   "metadata": {
    "hidden": true
   },
   "outputs": [],
   "source": [
    "series2 = freqXbyY(sub,'report_year',out)"
   ]
  },
  {
   "cell_type": "code",
   "execution_count": 10,
   "metadata": {
    "hidden": true
   },
   "outputs": [
    {
     "data": {
      "image/png": "[encoded data removed]",
      "text/plain": [
       "<Figure size 432x288 with 1 Axes>"
      ]
     },
     "metadata": {},
     "output_type": "display_data"
    }
   ],
   "source": [
    "p = plot(series2,kind='bar')\n",
    "q = p.set_title(p.get_ylabel().upper(),rotation=0,weight='bold')\n",
    "q = p.set_ylabel(p.get_ylabel(),rotation=0)\n",
    "q = p.set_xlabel(\"Number of Reports\",weight=\"bold\")"
   ]
  },
  {
   "cell_type": "markdown",
   "metadata": {
    "heading_collapsed": true
   },
   "source": [
    "## subset data by chosen year(s)"
   ]
  },
  {
   "cell_type": "code",
   "execution_count": 11,
   "metadata": {
    "hidden": true,
    "scrolled": false
   },
   "outputs": [
    {
     "data": {
      "application/vnd.jupyter.widget-view+json": {
       "model_id": "d8c55028e38447508f2acf444996638a",
       "version_major": 2,
       "version_minor": 0
      },
      "text/plain": [
       "SelectMultiple(index=(0, 1, 2, 3, 4, 5, 6, 7, 8, 9, 10), options=('2004', '2005', '2006', '2007', '2008', '200…"
      ]
     },
     "metadata": {},
     "output_type": "display_data"
    }
   ],
   "source": [
    "import ipywidgets as w\n",
    "labels = series2.index\n",
    "mds = w.SelectMultiple(options = labels ,value = tuple(labels))\n",
    "mds"
   ]
  },
  {
   "cell_type": "markdown",
   "metadata": {
    "heading_collapsed": true
   },
   "source": [
    "## How many are reported within this class across the sexes?"
   ]
  },
  {
   "cell_type": "code",
   "execution_count": 12,
   "metadata": {
    "hidden": true
   },
   "outputs": [
    {
     "data": {
      "text/plain": [
       "<matplotlib.axes._subplots.AxesSubplot at 0x11e7fd7b8>"
      ]
     },
     "execution_count": 12,
     "metadata": {},
     "output_type": "execute_result"
    },
    {
     "data": {
      "image/png": "[encoded data removed]",
      "text/plain": [
       "<Figure size 432x288 with 1 Axes>"
      ]
     },
     "metadata": {},
     "output_type": "display_data"
    }
   ],
   "source": [
    "#plot variables for filtering/wrangling\n",
    "bars = 'gender_code'\n",
    "x = 'report_year'\n",
    "count = 'id'\n",
    "dat = clean_gender(sub).query('report_year in @mds.label')\n",
    "\n",
    "#main\n",
    "sub_dat = dat[[bars,x,count]]\n",
    "plot_sub = sub_dat.groupby([bars,x]).count().reset_index(level=bars).pivot(columns=bars)\n",
    "plot_sub.columns = plot_sub.columns.droplevel(level=0)\n",
    "plot_sub.plot.bar()"
   ]
  },
  {
   "cell_type": "markdown",
   "metadata": {
    "heading_collapsed": true
   },
   "source": [
    "## How many are reported within this class across ages?"
   ]
  },
  {
   "cell_type": "code",
   "execution_count": 13,
   "metadata": {
    "hidden": true
   },
   "outputs": [
    {
     "data": {
      "text/plain": [
       "<matplotlib.axes._subplots.AxesSubplot at 0x11e7fd6d8>"
      ]
     },
     "execution_count": 13,
     "metadata": {},
     "output_type": "execute_result"
    },
    {
     "data": {
      "image/png": "[encoded data removed]",
      "text/plain": [
       "<Figure size 432x288 with 1 Axes>"
      ]
     },
     "metadata": {},
     "output_type": "display_data"
    }
   ],
   "source": [
    "#plot variables for filtering/wrangling\n",
    "grp = 'age_cat'\n",
    "\n",
    "#main\n",
    "dat[[out,grp]].groupby([grp]).count().plot.bar()"
   ]
  },
  {
   "cell_type": "markdown",
   "metadata": {
    "heading_collapsed": true
   },
   "source": [
    "## How many are reported within this class across ages for each sex?"
   ]
  },
  {
   "cell_type": "code",
   "execution_count": 14,
   "metadata": {
    "hidden": true
   },
   "outputs": [
    {
     "data": {
      "text/plain": [
       "<matplotlib.axes._subplots.AxesSubplot at 0x10d5754e0>"
      ]
     },
     "execution_count": 14,
     "metadata": {},
     "output_type": "execute_result"
    },
    {
     "data": {
      "image/png": "[encoded data removed]",
      "text/plain": [
       "<Figure size 432x288 with 1 Axes>"
      ]
     },
     "metadata": {},
     "output_type": "display_data"
    }
   ],
   "source": [
    "#plot variables for filtering/wrangling\n",
    "bars = 'gender_code'\n",
    "x = 'age_cat'\n",
    "count = 'id'\n",
    "\n",
    "#want to filter dataset for M/F gender and if report year was clicked or selected\n",
    "sub = clean_gender(sub)[[bars,x,count]]\n",
    "\n",
    "#main\n",
    "plot_sub = sub.groupby([bars,x]).count().reset_index(level=bars).pivot(columns=bars)\n",
    "plot_sub.columns = plot_sub.columns.droplevel(level=0)\n",
    "plot_sub.plot.bar()"
   ]
  }
 ],
 "metadata": {
  "kernelspec": {
   "display_name": "Python [default]",
   "language": "python",
   "name": "python3"
  },
  "language_info": {
   "codemirror_mode": {
    "name": "ipython",
    "version": 3
   },
   "file_extension": ".py",
   "mimetype": "text/x-python",
   "name": "python",
   "nbconvert_exporter": "python",
   "pygments_lexer": "ipython3",
   "version": "3.6.5"
  }
 },
 "nbformat": 4,
 "nbformat_minor": 2
}

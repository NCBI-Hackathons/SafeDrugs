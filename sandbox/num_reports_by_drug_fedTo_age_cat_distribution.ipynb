{
 "cells": [
  {
   "cell_type": "code",
   "execution_count": 1,
   "metadata": {},
   "outputs": [],
   "source": [
    "def plot_settings(style='seaborn-whitegrid'):\n",
    "    \"\"\"\n",
    "    Common rcParams for plot styling\n",
    "    \"\"\"\n",
    "    import matplotlib as mpl\n",
    "    \n",
    "    mpl.style.use(style)\n",
    "    mpl.rcParams['font.weight']= 'bold'\n",
    "    mpl.rcParams['font.size']= 16"
   ]
  },
  {
   "cell_type": "code",
   "execution_count": 2,
   "metadata": {},
   "outputs": [
    {
     "name": "stderr",
     "output_type": "stream",
     "text": [
      "/usr/local/Cellar/python/3.6.5_1/Frameworks/Python.framework/Versions/3.6/lib/python3.6/importlib/_bootstrap.py:219: RuntimeWarning: numpy.dtype size changed, may indicate binary incompatibility. Expected 96, got 88\n",
      "  return f(*args, **kwds)\n",
      "/usr/local/Cellar/python/3.6.5_1/Frameworks/Python.framework/Versions/3.6/lib/python3.6/importlib/_bootstrap.py:219: RuntimeWarning: numpy.dtype size changed, may indicate binary incompatibility. Expected 96, got 88\n",
      "  return f(*args, **kwds)\n"
     ]
    }
   ],
   "source": [
    "import pandas as pd\n",
    "from quilt.data.hsiaoyi0504 import aeolus_top5drugs\n",
    "\n",
    "%matplotlib inline\n",
    "\n",
    "data = pd.read_feather(aeolus_top5drugs.aeolus_top5drugs._data())"
   ]
  },
  {
   "cell_type": "code",
   "execution_count": 3,
   "metadata": {},
   "outputs": [],
   "source": [
    "def freqXbyY(data,x = 'drug_concept_id',y = 'report_year'):\n",
    "    \"\"\"\n",
    "    helper groupby x and count y method\n",
    "    \"\"\"\n",
    "    \n",
    "    return data.groupby(x)[y].count()"
   ]
  },
  {
   "cell_type": "code",
   "execution_count": 4,
   "metadata": {},
   "outputs": [],
   "source": [
    "grpd = freqXbyY(data,'drug_concept_id','id')"
   ]
  },
  {
   "cell_type": "code",
   "execution_count": 5,
   "metadata": {},
   "outputs": [],
   "source": [
    "import ipywidgets as w"
   ]
  },
  {
   "cell_type": "code",
   "execution_count": 6,
   "metadata": {},
   "outputs": [],
   "source": [
    "drugs = grpd.index.values\n",
    "d = w.Dropdown(options = drugs,layout=w.Layout(width='30%', display='flex'))"
   ]
  },
  {
   "cell_type": "code",
   "execution_count": 7,
   "metadata": {},
   "outputs": [],
   "source": [
    "def dropdown(series,layout=None):\n",
    "    \"\"\"\n",
    "    Helper for pywidget dropdown\n",
    "    \n",
    "    Takes in series\n",
    "    \"\"\"\n",
    "    \n",
    "    import ipywidgets as w\n",
    "    \n",
    "    arr = series.index.values\n",
    "\n",
    "    if layout is None:\n",
    "        layout = w.Layout(width='30%', display='flex')\n",
    "    \n",
    "    return w.Dropdown(options = drugs,layout=layout)"
   ]
  },
  {
   "cell_type": "code",
   "execution_count": 8,
   "metadata": {},
   "outputs": [
    {
     "data": {
      "application/vnd.jupyter.widget-view+json": {
       "model_id": "69d858f005a741d5bdb9add2d1d6b15e",
       "version_major": 2,
       "version_minor": 0
      },
      "text/plain": [
       "Dropdown(layout=Layout(display='flex', width='30%'), options=(923645, 956874, 1112807, 1125315, 1501700), valu…"
      ]
     },
     "metadata": {},
     "output_type": "display_data"
    }
   ],
   "source": [
    "dropdown(grpd)"
   ]
  },
  {
   "cell_type": "code",
   "execution_count": 9,
   "metadata": {},
   "outputs": [],
   "source": [
    "def filtXfreqYbyZ(data,label,x,y,z):\n",
    "    \"\"\"\n",
    "    filter by the label in x within the dataframe\n",
    "    \n",
    "    use freqXbyY helper method\n",
    "    \"\"\"\n",
    "    \n",
    "    tmp = data.query('{0}==@label'.format(x))\n",
    "    \n",
    "    return freqXbyY(tmp,y,z)"
   ]
  },
  {
   "cell_type": "code",
   "execution_count": 10,
   "metadata": {},
   "outputs": [],
   "source": [
    "ac_grpd = filtXfreqYbyZ(data,label=d.label,x='drug_concept_id',y='age_cat',z='age_cat')"
   ]
  },
  {
   "cell_type": "code",
   "execution_count": 11,
   "metadata": {},
   "outputs": [],
   "source": [
    "plot_settings()"
   ]
  },
  {
   "cell_type": "code",
   "execution_count": 12,
   "metadata": {},
   "outputs": [],
   "source": [
    "def plot(series,kind):\n",
    "    \"\"\"\n",
    "    helper for plotting\n",
    "    \"\"\"\n",
    "    \n",
    "    series.plot(kind=kind)"
   ]
  },
  {
   "cell_type": "code",
   "execution_count": 13,
   "metadata": {},
   "outputs": [
    {
     "data": {
      "image/png": "[encoded data removed]",
      "text/plain": [
       "<Figure size 432x288 with 1 Axes>"
      ]
     },
     "metadata": {},
     "output_type": "display_data"
    }
   ],
   "source": [
    "plot(ac_grpd,'bar')"
   ]
  },
  {
   "cell_type": "code",
   "execution_count": 14,
   "metadata": {},
   "outputs": [],
   "source": []
  }
 ],
 "metadata": {
  "kernelspec": {
   "display_name": "Python 3",
   "language": "python",
   "name": "python3"
  },
  "language_info": {
   "codemirror_mode": {
    "name": "ipython",
    "version": 3
   },
   "file_extension": ".py",
   "mimetype": "text/x-python",
   "name": "python",
   "nbconvert_exporter": "python",
   "pygments_lexer": "ipython3",
   "version": "3.6.5"
  }
 },
 "nbformat": 4,
 "nbformat_minor": 2
}

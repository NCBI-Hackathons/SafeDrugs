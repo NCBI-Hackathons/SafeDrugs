{
 "cells": [
  {
   "cell_type": "code",
   "execution_count": 1,
   "metadata": {},
   "outputs": [
    {
     "name": "stderr",
     "output_type": "stream",
     "text": [
      "/Users/yangliu/.virtualenvs/dash/lib/python3.6/importlib/_bootstrap.py:219: RuntimeWarning: numpy.dtype size changed, may indicate binary incompatibility. Expected 96, got 88\n",
      "  return f(*args, **kwds)\n",
      "/Users/yangliu/.virtualenvs/dash/lib/python3.6/importlib/_bootstrap.py:219: RuntimeWarning: numpy.dtype size changed, may indicate binary incompatibility. Expected 96, got 88\n",
      "  return f(*args, **kwds)\n"
     ]
    },
    {
     "data": {
      "text/html": [
       "<script>requirejs.config({paths: { 'plotly': ['https://cdn.plot.ly/plotly-latest.min']},});if(!window.Plotly) {{require(['plotly'],function(plotly) {window.Plotly=plotly;});}}</script>"
      ],
      "text/vnd.plotly.v1+html": [
       "<script>requirejs.config({paths: { 'plotly': ['https://cdn.plot.ly/plotly-latest.min']},});if(!window.Plotly) {{require(['plotly'],function(plotly) {window.Plotly=plotly;});}}</script>"
      ]
     },
     "metadata": {},
     "output_type": "display_data"
    }
   ],
   "source": [
    "import plotly.offline as py\n",
    "import plotly\n",
    "import plotly.graph_objs as go\n",
    "\n",
    "plotly.offline.init_notebook_mode(connected=True)\n"
   ]
  },
  {
   "cell_type": "code",
   "execution_count": 29,
   "metadata": {},
   "outputs": [],
   "source": [
    "def pyplot(x, y, title = \"plot\", x_title = None, y_title = None, type = \"bar\", tickangle = -45, plot_out = False):\n",
    "    \"\"\"\n",
    "    plotly plot based on the labels in x and data in y.\n",
    "    arguments:\n",
    "        x - labels of the data\n",
    "        y - values\n",
    "        title - figure title\n",
    "        x_title - title of x axis\n",
    "        y_title - title of y axis\n",
    "        tickangle - angle of x tick labels\n",
    "        plot_out - bool type decides if the function plot out the figure\n",
    "    \n",
    "    return:\n",
    "        the handler of the plotly figure\n",
    "    \"\"\"\n",
    "\n",
    "    data = [go.Bar(\n",
    "            x=x,\n",
    "            y=y, \n",
    "    )]\n",
    "    \n",
    "        \n",
    "    layout = go.Layout(\n",
    "            title = title,\n",
    "            xaxis=dict(title = x_title,\n",
    "                       tickangle=tickangle),\n",
    "            yaxis=dict(title = y_title)\n",
    "            )\n",
    "    \n",
    "    fig = go.Figure(data=data, layout=layout)\n",
    "    \n",
    "    if plot_out:\n",
    "        py.iplot(fig, filename=\"bar_fig\")\n",
    "    \n",
    "    return fig\n",
    "    "
   ]
  },
  {
   "cell_type": "code",
   "execution_count": 31,
   "metadata": {},
   "outputs": [],
   "source": [
    "# x = [\"abc\", 'bed','casd','ddasd']\n",
    "# y=[1, 2, 3, 4]\n",
    "\n",
    "# pyplot(x, y, plot_out=True)"
   ]
  },
  {
   "cell_type": "code",
   "execution_count": null,
   "metadata": {},
   "outputs": [],
   "source": []
  }
 ],
 "metadata": {
  "kernelspec": {
   "display_name": "Python 3",
   "language": "python",
   "name": "python3"
  },
  "language_info": {
   "codemirror_mode": {
    "name": "ipython",
    "version": 3
   },
   "file_extension": ".py",
   "mimetype": "text/x-python",
   "name": "python",
   "nbconvert_exporter": "python",
   "pygments_lexer": "ipython3",
   "version": "3.6.5"
  }
 },
 "nbformat": 4,
 "nbformat_minor": 2
}
